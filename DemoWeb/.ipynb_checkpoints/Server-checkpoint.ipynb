{
 "cells": [
  {
   "cell_type": "code",
   "execution_count": 1,
   "metadata": {
    "colab": {
     "base_uri": "https://localhost:8080/"
    },
    "executionInfo": {
     "elapsed": 28583,
     "status": "ok",
     "timestamp": 1663513753494,
     "user": {
      "displayName": "Long Hoang",
      "userId": "12903495765777284436"
     },
     "user_tz": -420
    },
    "id": "4QOXyAuHxxgk",
    "outputId": "62ad5ca9-c6a0-4873-b1c2-e54a9de0c30a"
   },
   "outputs": [],
   "source": [
    "# !pip install flask-ngrok\n",
    "# !pip install flask_ngrok\n",
    "# !pip install pyngrok\n",
    "# !ngrok authtoken 2EvTUNCqpWpOeoHXGnEqsj1f2Jd_52sEd1imYByeKph9bPSMH\n",
    "# !pip install ftfy==6.1.1\n",
    "# !pip install transformers==4.20.1\n",
    "# !pip install tensorflow_addons==0.17.1"
   ]
  },
  {
   "cell_type": "code",
   "execution_count": 2,
   "metadata": {
    "colab": {
     "base_uri": "https://localhost:8080/"
    },
    "executionInfo": {
     "elapsed": 37923,
     "status": "ok",
     "timestamp": 1663513791412,
     "user": {
      "displayName": "Long Hoang",
      "userId": "12903495765777284436"
     },
     "user_tz": -420
    },
    "id": "tsAolsrLyh8o",
    "outputId": "87a71e8a-1ad2-4318-b89e-2bbb1e124d58"
   },
   "outputs": [],
   "source": [
    "#from google.colab import drive\n",
    "import numpy as np\n",
    "import pickle\n",
    "import tensorflow as tf\n",
    "import random\n",
    "import pandas as pd\n",
    "import warnings,operator\n",
    "from tqdm import tqdm\n",
    "import time\n",
    "import os, re, string\n",
    "import time\n",
    "\n",
    "warnings.filterwarnings(\"ignore\")\n",
    "from transformers import logging\n",
    "from transformers import TFAutoModel, AutoTokenizer\n",
    "from transformers import RobertaConfig, TFXLMRobertaModel, RobertaTokenizer,TFRobertaModel,TFBertModel\n",
    "logging.set_verbosity_error()\n",
    "from tensorflow.keras.utils import pad_sequences\n",
    "#from google.colab import drive\n",
    "#drive.mount('/content/gdrive')\n",
    "\n",
    "\n"
   ]
  },
  {
   "cell_type": "code",
   "execution_count": 3,
   "metadata": {
    "executionInfo": {
     "elapsed": 11,
     "status": "ok",
     "timestamp": 1663513791413,
     "user": {
      "displayName": "Long Hoang",
      "userId": "12903495765777284436"
     },
     "user_tz": -420
    },
    "id": "6vx-oWDyylv_"
   },
   "outputs": [],
   "source": [
    "import string,re\n",
    "def clean_doc(text):\n",
    "  text = text.lower()\n",
    "  text = text.translate(text.maketrans('', '', string.punctuation))\n",
    "  text = re.sub(r\"[0-9]+\", \" num \", text)\n",
    "  text = re.sub('\\\\s+',' ',text)\n",
    "  text = text.strip()\n",
    "  return text"
   ]
  },
  {
   "cell_type": "code",
   "execution_count": 4,
   "metadata": {
    "executionInfo": {
     "elapsed": 9,
     "status": "ok",
     "timestamp": 1663513791413,
     "user": {
      "displayName": "Long Hoang",
      "userId": "12903495765777284436"
     },
     "user_tz": -420
    },
    "id": "1KRQQHwWyn2E"
   },
   "outputs": [],
   "source": [
    "listLabel = \"RESTAURANT#GENERAL,SERVICE#GENERAL,FOOD#QUALITY,FOOD#STYLE_OPTIONS,DRINKS#STYLE_OPTIONS,DRINKS#PRICES,RESTAURANT#PRICES,RESTAURANT#MISCELLANEOUS,AMBIENCE#GENERAL,FOOD#PRICES,LOCATION#GENERAL,DRINKS#QUALITY\"\n",
    "categories = listLabel.split(',')"
   ]
  },
  {
   "cell_type": "code",
   "execution_count": 5,
   "metadata": {
    "colab": {
     "base_uri": "https://localhost:8080/",
     "height": 131,
     "referenced_widgets": [
      "183a1608d5ee4f5f85819c95b307af70",
      "c62c85cd93f94c62ae79461ceeb9f998",
      "71b0c9857a6b42cdb8304d1246ee9f02",
      "d2d1818cb4b44784a3a729de09b9e045",
      "a2a310cd623b41deb15ae12bc3ba6c2d",
      "b362cc8201864b1da1d6bfb5c2a6588d",
      "712cccb3183b465db0fb1b918da04ad1",
      "f0043dcc4ef9431a925599fed9db87ff",
      "53bf64fd89ec477aadda4b24bd54cf4e",
      "ac4c91efcc4548cda42007f29dac2a95",
      "89a168bc1598482c9f5757738565b52b",
      "8a4e9c2c190147418ea129303ab97142",
      "af0d9b79e8c64a7e8f27d5e306985aea",
      "9e8b9deabfcb43ba9df28d775bd8559e",
      "8ef3f74e1a0247bdb6545ce84b3c5415",
      "74b7953a51ce4ab1bf4a78844e99f149",
      "322e2b0af0fb4055a8efeb9fbf787d8c",
      "151ba40b58e9481ca09f72fd7742b53d",
      "9174874215dd44a8b09b74339e313c24",
      "e3d796f7ac8647a48a3369dd775f6b89",
      "fb5c704fbb9443218bbeb6b4feec3cf3",
      "891589cdd0804961b2352365deaabe1f",
      "23df23ee04de415d977ed3b357002791",
      "62ad9bfb5f6445eca16de0c53a882102",
      "473a455ca0d146f5a9fc57a547f9875a",
      "5e542ca4802340ea904dd95634002fb6",
      "2f89a50d11f84b7a83078679eff8546e",
      "f16173e4115843be84ceb65c55ce0000",
      "a9d38d78075345c0a72a143ea482f695",
      "299fba59ea6b42a8bfc52817dbb51515",
      "10d7ccc9b44c475bbcb9414be2e31509",
      "d051a71c91384353b382a6c302f6b941",
      "d3e4c257b4fb4f20a2ece2b13ab6657b"
     ]
    },
    "executionInfo": {
     "elapsed": 1627,
     "status": "ok",
     "timestamp": 1663513793031,
     "user": {
      "displayName": "Long Hoang",
      "userId": "12903495765777284436"
     },
     "user_tz": -420
    },
    "id": "5BvJCbMlziJI",
    "outputId": "890794e3-ee9b-4ef4-d9a0-04f43105b516"
   },
   "outputs": [
    {
     "name": "stdout",
     "output_type": "stream",
     "text": [
      "Load English model\n"
     ]
    }
   ],
   "source": [
    "print(\"Load English model\")\n",
    "model_name = 'roberta-base'\n",
    "tokenizer = RobertaTokenizer.from_pretrained(model_name, do_lower_case=False)"
   ]
  },
  {
   "cell_type": "code",
   "execution_count": 6,
   "metadata": {
    "colab": {
     "base_uri": "https://localhost:8080/"
    },
    "executionInfo": {
     "elapsed": 31766,
     "status": "ok",
     "timestamp": 1663513824791,
     "user": {
      "displayName": "Long Hoang",
      "userId": "12903495765777284436"
     },
     "user_tz": -420
    },
    "id": "K-LhRX02yqTJ",
    "outputId": "215a05e0-ee0a-4055-9018-08057e9ce57c"
   },
   "outputs": [
    {
     "name": "stderr",
     "output_type": "stream",
     "text": [
      "2022-09-24 19:14:09.329536: I tensorflow/core/platform/cpu_feature_guard.cc:193] This TensorFlow binary is optimized with oneAPI Deep Neural Network Library (oneDNN) to use the following CPU instructions in performance-critical operations:  AVX2 FMA\n",
      "To enable them in other operations, rebuild TensorFlow with the appropriate compiler flags.\n"
     ]
    },
    {
     "name": "stdout",
     "output_type": "stream",
     "text": [
      "WARNING:tensorflow:Error in loading the saved optimizer state. As a result, your model is starting with a freshly initialized optimizer.\n",
      "Time for Loading model: 14.835232019424438\n"
     ]
    }
   ],
   "source": [
    "# Load RoBertTa model\n",
    "path_save_model = 'programing/Projects/Aspect based Sentiment/Model/'\n",
    "\n",
    "start = time.time()\n",
    "model = tf.keras.models.load_model(\"./Model/RoBertTa.h5\",custom_objects={\"TFRobertaModel\": TFRobertaModel})\n",
    "end = time.time()\n",
    "print(\"Time for Loading model: \" + str(end - start))"
   ]
  },
  {
   "cell_type": "code",
   "execution_count": 7,
   "metadata": {
    "colab": {
     "base_uri": "https://localhost:8080/"
    },
    "executionInfo": {
     "elapsed": 532,
     "status": "ok",
     "timestamp": 1663513825301,
     "user": {
      "displayName": "Long Hoang",
      "userId": "12903495765777284436"
     },
     "user_tz": -420
    },
    "id": "kxWaiJCO71ee",
    "outputId": "0762e474-3c96-4ab8-f801-6505bef69fc8"
   },
   "outputs": [],
   "source": [
    "#!wget https://bin.equinox.io/c/4VmDzA7iaHb/ngrok-stable-linux-amd64.tgz\n",
    "#!tar -xvf /content/ngrok-stable-linux-amd64.tgz\n",
    "#!./ngrok authtoken 2EvTUNCqpWpOeoHXGnEqsj1f2Jd_52sEd1imYByeKph9bPSMH"
   ]
  },
  {
   "cell_type": "code",
   "execution_count": 8,
   "metadata": {
    "colab": {
     "base_uri": "https://localhost:8080/"
    },
    "executionInfo": {
     "elapsed": 11721,
     "status": "ok",
     "timestamp": 1663513837019,
     "user": {
      "displayName": "Long Hoang",
      "userId": "12903495765777284436"
     },
     "user_tz": -420
    },
    "id": "sPnfcbjyy1HA",
    "outputId": "f6f4228d-97da-47c2-b96c-89400e0a560e"
   },
   "outputs": [],
   "source": [
    "# !cp -r \"/content/gdrive/MyDrive/ABSA_English/DemoWeb/\" \"DemoWeb\"\n",
    "# %cd \"DemoWeb\"\n",
    "# !ls"
   ]
  },
  {
   "cell_type": "code",
   "execution_count": 9,
   "metadata": {},
   "outputs": [],
   "source": [
    "# pip install flask-ngrok"
   ]
  },
  {
   "cell_type": "code",
   "execution_count": 10,
   "metadata": {
    "executionInfo": {
     "elapsed": 15,
     "status": "ok",
     "timestamp": 1663513837019,
     "user": {
      "displayName": "Long Hoang",
      "userId": "12903495765777284436"
     },
     "user_tz": -420
    },
    "id": "rNWcZjFOzEZE"
   },
   "outputs": [],
   "source": [
    "# Đây là đoạn code xử lý code xây dựng ứng dụng: nếu địa chỉ IP vào là 127.0.0:5000 là sẽ trả file html \"Home\"\n",
    "from flask import Flask, render_template,request,send_file,Response\n",
    "import pickle\n",
    "import numpy as np\n",
    "import os, string, re\n",
    "from flask_ngrok import run_with_ngrok\n",
    "import os\n",
    "app = Flask(__name__)\n",
    "# run_with_ngrok(app)  \n",
    "\n",
    "\n",
    "@app.route(\"/\")\n",
    "def home():\n",
    "    return render_template(\"home.html\")\n",
    "\n",
    "@app.route(\"/sentiment/\", methods=['POST','GET'])\n",
    "def sentiment():\n",
    "    query_value = request.form['query']\n",
    "    query_clean = clean_doc(query_value)\n",
    "    encoding_demo = tokenizer([query_clean], return_tensors='tf', padding=\"max_length\", truncation=True, max_length=74)\n",
    "    demo_ids = encoding_demo['input_ids']\n",
    "    demo_attention_mask = encoding_demo['attention_mask']\n",
    "    predicted = model.predict([np.expand_dims(demo_ids[0], axis=0),np.expand_dims(np.array(demo_attention_mask[0]), axis=0)])\n",
    "    s = ''\n",
    "    for i, predict in enumerate(predicted):\n",
    "        index2, value = max(enumerate(predict[0]), key=operator.itemgetter(1))\n",
    "        if index2 == 1:\n",
    "            s+=  str(categories[i]) + ' : positive, '\n",
    "        elif index2 == 2:\n",
    "            s+= str(categories[i]) + ' : neutral, '\n",
    "        elif index2 == 3:\n",
    "            s+= str(categories[i]) + ' : negative, '\n",
    "\n",
    "    label = s[:-2]\n",
    "\n",
    "    print(\"Result : \", label)\n",
    "    return render_template(\"result.html\", data = [{\"label\":label,\"query\":query_value}])"
   ]
  },
  {
   "cell_type": "code",
   "execution_count": null,
   "metadata": {
    "colab": {
     "base_uri": "https://localhost:8080/"
    },
    "executionInfo": {
     "elapsed": 1314712,
     "status": "ok",
     "timestamp": 1663515151717,
     "user": {
      "displayName": "Long Hoang",
      "userId": "12903495765777284436"
     },
     "user_tz": -420
    },
    "id": "4Akh2s1lx4GU",
    "outputId": "0b64d3b5-b418-4dc0-d73b-0c9ee5e2c2a3"
   },
   "outputs": [
    {
     "name": "stdout",
     "output_type": "stream",
     "text": [
      " * Serving Flask app '__main__'\n",
      " * Debug mode: off\n"
     ]
    },
    {
     "name": "stderr",
     "output_type": "stream",
     "text": [
      "WARNING: This is a development server. Do not use it in a production deployment. Use a production WSGI server instead.\n",
      " * Running on http://127.0.0.1:5000\n",
      "Press CTRL+C to quit\n",
      "Exception in thread Thread-5:\n",
      "Traceback (most recent call last):\n",
      "  File \"/usr/local/anaconda3/lib/python3.8/threading.py\", line 932, in _bootstrap_inner\n",
      "    self.run()\n",
      "  File \"/usr/local/anaconda3/lib/python3.8/threading.py\", line 1254, in run\n",
      "    self.function(*self.args, **self.kwargs)\n",
      "  File \"/usr/local/anaconda3/lib/python3.8/site-packages/flask_ngrok.py\", line 70, in start_ngrok\n",
      "    ngrok_address = _run_ngrok()\n",
      "  File \"/usr/local/anaconda3/lib/python3.8/site-packages/flask_ngrok.py\", line 31, in _run_ngrok\n",
      "    ngrok = subprocess.Popen([executable, 'http', '5000'])\n",
      "  File \"/usr/local/anaconda3/lib/python3.8/subprocess.py\", line 858, in __init__\n",
      "    self._execute_child(args, executable, preexec_fn, close_fds,\n",
      "  File \"/usr/local/anaconda3/lib/python3.8/subprocess.py\", line 1706, in _execute_child\n",
      "    raise child_exception_type(errno_num, err_msg, err_filename)\n",
      "PermissionError: [Errno 13] Permission denied: '/var/folders/23/9f15z0c11jz_sy9hlr5w468h0000gn/T/ngrok/ngrok'\n",
      "127.0.0.1 - - [24/Sep/2022 19:14:44] \"GET / HTTP/1.1\" 200 -\n",
      "127.0.0.1 - - [24/Sep/2022 19:14:45] \"GET /static/results.css HTTP/1.1\" 304 -\n",
      "127.0.0.1 - - [24/Sep/2022 19:14:45] \"GET /static/bootstrap.min.css HTTP/1.1\" 304 -\n",
      "127.0.0.1 - - [24/Sep/2022 19:14:45] \"GET /static/jquery-2.0.3.min.js HTTP/1.1\" 304 -\n",
      "127.0.0.1 - - [24/Sep/2022 19:14:45] \"GET /static/bg1.png HTTP/1.1\" 304 -\n"
     ]
    },
    {
     "name": "stdout",
     "output_type": "stream",
     "text": [
      "1/1 [==============================] - 5s 5s/step\n"
     ]
    },
    {
     "name": "stderr",
     "output_type": "stream",
     "text": [
      "127.0.0.1 - - [24/Sep/2022 19:15:20] \"POST /phantich/ HTTP/1.1\" 200 -\n",
      "127.0.0.1 - - [24/Sep/2022 19:15:20] \"GET /static/bootstrap.min.css HTTP/1.1\" 304 -\n",
      "127.0.0.1 - - [24/Sep/2022 19:15:20] \"GET /static/results.css HTTP/1.1\" 304 -\n",
      "127.0.0.1 - - [24/Sep/2022 19:15:20] \"GET /static/jquery-2.0.3.min.js HTTP/1.1\" 304 -\n",
      "127.0.0.1 - - [24/Sep/2022 19:15:20] \"GET /static/font-awesome-4.7.0/css/font-awesome.css HTTP/1.1\" 304 -\n"
     ]
    },
    {
     "name": "stdout",
     "output_type": "stream",
     "text": [
      "Result :  {FOOD#QUALITY, negative}, {AMBIENCE#GENERAL, positive}\n"
     ]
    },
    {
     "name": "stderr",
     "output_type": "stream",
     "text": [
      "127.0.0.1 - - [24/Sep/2022 19:15:21] \"GET /static/bg1.png HTTP/1.1\" 304 -\n"
     ]
    },
    {
     "name": "stdout",
     "output_type": "stream",
     "text": [
      "1/1 [==============================] - 3s 3s/step\n"
     ]
    },
    {
     "name": "stderr",
     "output_type": "stream",
     "text": [
      "127.0.0.1 - - [26/Sep/2022 09:48:10] \"POST /phantich/ HTTP/1.1\" 200 -\n"
     ]
    },
    {
     "name": "stdout",
     "output_type": "stream",
     "text": [
      "Result :  {FOOD#QUALITY, negative}, {AMBIENCE#GENERAL, positive}\n"
     ]
    },
    {
     "name": "stderr",
     "output_type": "stream",
     "text": [
      "127.0.0.1 - - [26/Sep/2022 09:48:11] \"GET /static/results.css HTTP/1.1\" 304 -\n",
      "127.0.0.1 - - [26/Sep/2022 09:48:11] \"GET /static/jquery-2.0.3.min.js HTTP/1.1\" 304 -\n",
      "127.0.0.1 - - [26/Sep/2022 09:48:11] \"GET /static/bootstrap.min.css HTTP/1.1\" 304 -\n",
      "127.0.0.1 - - [26/Sep/2022 09:48:11] \"GET /static/font-awesome-4.7.0/css/font-awesome.css HTTP/1.1\" 304 -\n",
      "127.0.0.1 - - [26/Sep/2022 09:48:11] \"GET /static/bg1.png HTTP/1.1\" 200 -\n"
     ]
    },
    {
     "name": "stdout",
     "output_type": "stream",
     "text": [
      "1/1 [==============================] - 1s 606ms/step\n"
     ]
    },
    {
     "name": "stderr",
     "output_type": "stream",
     "text": [
      "127.0.0.1 - - [26/Sep/2022 09:48:25] \"POST /phantich/ HTTP/1.1\" 200 -\n",
      "127.0.0.1 - - [26/Sep/2022 09:48:25] \"GET /static/results.css HTTP/1.1\" 304 -\n",
      "127.0.0.1 - - [26/Sep/2022 09:48:25] \"GET /static/bootstrap.min.css HTTP/1.1\" 304 -\n",
      "127.0.0.1 - - [26/Sep/2022 09:48:25] \"GET /static/jquery-2.0.3.min.js HTTP/1.1\" 304 -\n",
      "127.0.0.1 - - [26/Sep/2022 09:48:25] \"GET /static/font-awesome-4.7.0/css/font-awesome.css HTTP/1.1\" 304 -\n"
     ]
    },
    {
     "name": "stdout",
     "output_type": "stream",
     "text": [
      "Result :  {AMBIENCE#GENERAL, positive}\n"
     ]
    },
    {
     "name": "stderr",
     "output_type": "stream",
     "text": [
      "127.0.0.1 - - [26/Sep/2022 09:48:25] \"GET /static/bg1.png HTTP/1.1\" 304 -\n"
     ]
    }
   ],
   "source": [
    "# app.run()\n",
    "#!ngrok authtoken 1l5JKiNSdbd9pHc3BemJvuRWZxV_3kwR9bTmf86oHBmYKE2fn\n",
    "run_with_ngrok(app)\n",
    "app.run()"
   ]
  },
  {
   "cell_type": "code",
   "execution_count": null,
   "metadata": {},
   "outputs": [],
   "source": []
  }
 ],
 "metadata": {
  "colab": {
   "authorship_tag": "ABX9TyMKxfUR7foH+YnX281+jcpb",
   "collapsed_sections": [],
   "provenance": []
  },
  "kernelspec": {
   "display_name": "Python 3 (ipykernel)",
   "language": "python",
   "name": "python3"
  },
  "language_info": {
   "codemirror_mode": {
    "name": "ipython",
    "version": 3
   },
   "file_extension": ".py",
   "mimetype": "text/x-python",
   "name": "python",
   "nbconvert_exporter": "python",
   "pygments_lexer": "ipython3",
   "version": "3.8.8"
  },
  "widgets": {
   "application/vnd.jupyter.widget-state+json": {
    "10d7ccc9b44c475bbcb9414be2e31509": {
     "model_module": "@jupyter-widgets/controls",
     "model_module_version": "1.5.0",
     "model_name": "ProgressStyleModel",
     "state": {
      "_model_module": "@jupyter-widgets/controls",
      "_model_module_version": "1.5.0",
      "_model_name": "ProgressStyleModel",
      "_view_count": null,
      "_view_module": "@jupyter-widgets/base",
      "_view_module_version": "1.2.0",
      "_view_name": "StyleView",
      "bar_color": null,
      "description_width": ""
     }
    },
    "151ba40b58e9481ca09f72fd7742b53d": {
     "model_module": "@jupyter-widgets/controls",
     "model_module_version": "1.5.0",
     "model_name": "DescriptionStyleModel",
     "state": {
      "_model_module": "@jupyter-widgets/controls",
      "_model_module_version": "1.5.0",
      "_model_name": "DescriptionStyleModel",
      "_view_count": null,
      "_view_module": "@jupyter-widgets/base",
      "_view_module_version": "1.2.0",
      "_view_name": "StyleView",
      "description_width": ""
     }
    },
    "183a1608d5ee4f5f85819c95b307af70": {
     "model_module": "@jupyter-widgets/controls",
     "model_module_version": "1.5.0",
     "model_name": "HBoxModel",
     "state": {
      "_dom_classes": [],
      "_model_module": "@jupyter-widgets/controls",
      "_model_module_version": "1.5.0",
      "_model_name": "HBoxModel",
      "_view_count": null,
      "_view_module": "@jupyter-widgets/controls",
      "_view_module_version": "1.5.0",
      "_view_name": "HBoxView",
      "box_style": "",
      "children": [
       "IPY_MODEL_c62c85cd93f94c62ae79461ceeb9f998",
       "IPY_MODEL_71b0c9857a6b42cdb8304d1246ee9f02",
       "IPY_MODEL_d2d1818cb4b44784a3a729de09b9e045"
      ],
      "layout": "IPY_MODEL_a2a310cd623b41deb15ae12bc3ba6c2d"
     }
    },
    "23df23ee04de415d977ed3b357002791": {
     "model_module": "@jupyter-widgets/controls",
     "model_module_version": "1.5.0",
     "model_name": "HBoxModel",
     "state": {
      "_dom_classes": [],
      "_model_module": "@jupyter-widgets/controls",
      "_model_module_version": "1.5.0",
      "_model_name": "HBoxModel",
      "_view_count": null,
      "_view_module": "@jupyter-widgets/controls",
      "_view_module_version": "1.5.0",
      "_view_name": "HBoxView",
      "box_style": "",
      "children": [
       "IPY_MODEL_62ad9bfb5f6445eca16de0c53a882102",
       "IPY_MODEL_473a455ca0d146f5a9fc57a547f9875a",
       "IPY_MODEL_5e542ca4802340ea904dd95634002fb6"
      ],
      "layout": "IPY_MODEL_2f89a50d11f84b7a83078679eff8546e"
     }
    },
    "299fba59ea6b42a8bfc52817dbb51515": {
     "model_module": "@jupyter-widgets/base",
     "model_module_version": "1.2.0",
     "model_name": "LayoutModel",
     "state": {
      "_model_module": "@jupyter-widgets/base",
      "_model_module_version": "1.2.0",
      "_model_name": "LayoutModel",
      "_view_count": null,
      "_view_module": "@jupyter-widgets/base",
      "_view_module_version": "1.2.0",
      "_view_name": "LayoutView",
      "align_content": null,
      "align_items": null,
      "align_self": null,
      "border": null,
      "bottom": null,
      "display": null,
      "flex": null,
      "flex_flow": null,
      "grid_area": null,
      "grid_auto_columns": null,
      "grid_auto_flow": null,
      "grid_auto_rows": null,
      "grid_column": null,
      "grid_gap": null,
      "grid_row": null,
      "grid_template_areas": null,
      "grid_template_columns": null,
      "grid_template_rows": null,
      "height": null,
      "justify_content": null,
      "justify_items": null,
      "left": null,
      "margin": null,
      "max_height": null,
      "max_width": null,
      "min_height": null,
      "min_width": null,
      "object_fit": null,
      "object_position": null,
      "order": null,
      "overflow": null,
      "overflow_x": null,
      "overflow_y": null,
      "padding": null,
      "right": null,
      "top": null,
      "visibility": null,
      "width": null
     }
    },
    "2f89a50d11f84b7a83078679eff8546e": {
     "model_module": "@jupyter-widgets/base",
     "model_module_version": "1.2.0",
     "model_name": "LayoutModel",
     "state": {
      "_model_module": "@jupyter-widgets/base",
      "_model_module_version": "1.2.0",
      "_model_name": "LayoutModel",
      "_view_count": null,
      "_view_module": "@jupyter-widgets/base",
      "_view_module_version": "1.2.0",
      "_view_name": "LayoutView",
      "align_content": null,
      "align_items": null,
      "align_self": null,
      "border": null,
      "bottom": null,
      "display": null,
      "flex": null,
      "flex_flow": null,
      "grid_area": null,
      "grid_auto_columns": null,
      "grid_auto_flow": null,
      "grid_auto_rows": null,
      "grid_column": null,
      "grid_gap": null,
      "grid_row": null,
      "grid_template_areas": null,
      "grid_template_columns": null,
      "grid_template_rows": null,
      "height": null,
      "justify_content": null,
      "justify_items": null,
      "left": null,
      "margin": null,
      "max_height": null,
      "max_width": null,
      "min_height": null,
      "min_width": null,
      "object_fit": null,
      "object_position": null,
      "order": null,
      "overflow": null,
      "overflow_x": null,
      "overflow_y": null,
      "padding": null,
      "right": null,
      "top": null,
      "visibility": null,
      "width": null
     }
    },
    "322e2b0af0fb4055a8efeb9fbf787d8c": {
     "model_module": "@jupyter-widgets/base",
     "model_module_version": "1.2.0",
     "model_name": "LayoutModel",
     "state": {
      "_model_module": "@jupyter-widgets/base",
      "_model_module_version": "1.2.0",
      "_model_name": "LayoutModel",
      "_view_count": null,
      "_view_module": "@jupyter-widgets/base",
      "_view_module_version": "1.2.0",
      "_view_name": "LayoutView",
      "align_content": null,
      "align_items": null,
      "align_self": null,
      "border": null,
      "bottom": null,
      "display": null,
      "flex": null,
      "flex_flow": null,
      "grid_area": null,
      "grid_auto_columns": null,
      "grid_auto_flow": null,
      "grid_auto_rows": null,
      "grid_column": null,
      "grid_gap": null,
      "grid_row": null,
      "grid_template_areas": null,
      "grid_template_columns": null,
      "grid_template_rows": null,
      "height": null,
      "justify_content": null,
      "justify_items": null,
      "left": null,
      "margin": null,
      "max_height": null,
      "max_width": null,
      "min_height": null,
      "min_width": null,
      "object_fit": null,
      "object_position": null,
      "order": null,
      "overflow": null,
      "overflow_x": null,
      "overflow_y": null,
      "padding": null,
      "right": null,
      "top": null,
      "visibility": null,
      "width": null
     }
    },
    "473a455ca0d146f5a9fc57a547f9875a": {
     "model_module": "@jupyter-widgets/controls",
     "model_module_version": "1.5.0",
     "model_name": "FloatProgressModel",
     "state": {
      "_dom_classes": [],
      "_model_module": "@jupyter-widgets/controls",
      "_model_module_version": "1.5.0",
      "_model_name": "FloatProgressModel",
      "_view_count": null,
      "_view_module": "@jupyter-widgets/controls",
      "_view_module_version": "1.5.0",
      "_view_name": "ProgressView",
      "bar_style": "success",
      "description": "",
      "description_tooltip": null,
      "layout": "IPY_MODEL_299fba59ea6b42a8bfc52817dbb51515",
      "max": 481,
      "min": 0,
      "orientation": "horizontal",
      "style": "IPY_MODEL_10d7ccc9b44c475bbcb9414be2e31509",
      "value": 481
     }
    },
    "53bf64fd89ec477aadda4b24bd54cf4e": {
     "model_module": "@jupyter-widgets/controls",
     "model_module_version": "1.5.0",
     "model_name": "ProgressStyleModel",
     "state": {
      "_model_module": "@jupyter-widgets/controls",
      "_model_module_version": "1.5.0",
      "_model_name": "ProgressStyleModel",
      "_view_count": null,
      "_view_module": "@jupyter-widgets/base",
      "_view_module_version": "1.2.0",
      "_view_name": "StyleView",
      "bar_color": null,
      "description_width": ""
     }
    },
    "5e542ca4802340ea904dd95634002fb6": {
     "model_module": "@jupyter-widgets/controls",
     "model_module_version": "1.5.0",
     "model_name": "HTMLModel",
     "state": {
      "_dom_classes": [],
      "_model_module": "@jupyter-widgets/controls",
      "_model_module_version": "1.5.0",
      "_model_name": "HTMLModel",
      "_view_count": null,
      "_view_module": "@jupyter-widgets/controls",
      "_view_module_version": "1.5.0",
      "_view_name": "HTMLView",
      "description": "",
      "description_tooltip": null,
      "layout": "IPY_MODEL_d051a71c91384353b382a6c302f6b941",
      "placeholder": "​",
      "style": "IPY_MODEL_d3e4c257b4fb4f20a2ece2b13ab6657b",
      "value": " 481/481 [00:00&lt;00:00, 8.37kB/s]"
     }
    },
    "62ad9bfb5f6445eca16de0c53a882102": {
     "model_module": "@jupyter-widgets/controls",
     "model_module_version": "1.5.0",
     "model_name": "HTMLModel",
     "state": {
      "_dom_classes": [],
      "_model_module": "@jupyter-widgets/controls",
      "_model_module_version": "1.5.0",
      "_model_name": "HTMLModel",
      "_view_count": null,
      "_view_module": "@jupyter-widgets/controls",
      "_view_module_version": "1.5.0",
      "_view_name": "HTMLView",
      "description": "",
      "description_tooltip": null,
      "layout": "IPY_MODEL_f16173e4115843be84ceb65c55ce0000",
      "placeholder": "​",
      "style": "IPY_MODEL_a9d38d78075345c0a72a143ea482f695",
      "value": "Downloading: 100%"
     }
    },
    "712cccb3183b465db0fb1b918da04ad1": {
     "model_module": "@jupyter-widgets/controls",
     "model_module_version": "1.5.0",
     "model_name": "DescriptionStyleModel",
     "state": {
      "_model_module": "@jupyter-widgets/controls",
      "_model_module_version": "1.5.0",
      "_model_name": "DescriptionStyleModel",
      "_view_count": null,
      "_view_module": "@jupyter-widgets/base",
      "_view_module_version": "1.2.0",
      "_view_name": "StyleView",
      "description_width": ""
     }
    },
    "71b0c9857a6b42cdb8304d1246ee9f02": {
     "model_module": "@jupyter-widgets/controls",
     "model_module_version": "1.5.0",
     "model_name": "FloatProgressModel",
     "state": {
      "_dom_classes": [],
      "_model_module": "@jupyter-widgets/controls",
      "_model_module_version": "1.5.0",
      "_model_name": "FloatProgressModel",
      "_view_count": null,
      "_view_module": "@jupyter-widgets/controls",
      "_view_module_version": "1.5.0",
      "_view_name": "ProgressView",
      "bar_style": "success",
      "description": "",
      "description_tooltip": null,
      "layout": "IPY_MODEL_f0043dcc4ef9431a925599fed9db87ff",
      "max": 898823,
      "min": 0,
      "orientation": "horizontal",
      "style": "IPY_MODEL_53bf64fd89ec477aadda4b24bd54cf4e",
      "value": 898823
     }
    },
    "74b7953a51ce4ab1bf4a78844e99f149": {
     "model_module": "@jupyter-widgets/base",
     "model_module_version": "1.2.0",
     "model_name": "LayoutModel",
     "state": {
      "_model_module": "@jupyter-widgets/base",
      "_model_module_version": "1.2.0",
      "_model_name": "LayoutModel",
      "_view_count": null,
      "_view_module": "@jupyter-widgets/base",
      "_view_module_version": "1.2.0",
      "_view_name": "LayoutView",
      "align_content": null,
      "align_items": null,
      "align_self": null,
      "border": null,
      "bottom": null,
      "display": null,
      "flex": null,
      "flex_flow": null,
      "grid_area": null,
      "grid_auto_columns": null,
      "grid_auto_flow": null,
      "grid_auto_rows": null,
      "grid_column": null,
      "grid_gap": null,
      "grid_row": null,
      "grid_template_areas": null,
      "grid_template_columns": null,
      "grid_template_rows": null,
      "height": null,
      "justify_content": null,
      "justify_items": null,
      "left": null,
      "margin": null,
      "max_height": null,
      "max_width": null,
      "min_height": null,
      "min_width": null,
      "object_fit": null,
      "object_position": null,
      "order": null,
      "overflow": null,
      "overflow_x": null,
      "overflow_y": null,
      "padding": null,
      "right": null,
      "top": null,
      "visibility": null,
      "width": null
     }
    },
    "891589cdd0804961b2352365deaabe1f": {
     "model_module": "@jupyter-widgets/controls",
     "model_module_version": "1.5.0",
     "model_name": "DescriptionStyleModel",
     "state": {
      "_model_module": "@jupyter-widgets/controls",
      "_model_module_version": "1.5.0",
      "_model_name": "DescriptionStyleModel",
      "_view_count": null,
      "_view_module": "@jupyter-widgets/base",
      "_view_module_version": "1.2.0",
      "_view_name": "StyleView",
      "description_width": ""
     }
    },
    "89a168bc1598482c9f5757738565b52b": {
     "model_module": "@jupyter-widgets/controls",
     "model_module_version": "1.5.0",
     "model_name": "DescriptionStyleModel",
     "state": {
      "_model_module": "@jupyter-widgets/controls",
      "_model_module_version": "1.5.0",
      "_model_name": "DescriptionStyleModel",
      "_view_count": null,
      "_view_module": "@jupyter-widgets/base",
      "_view_module_version": "1.2.0",
      "_view_name": "StyleView",
      "description_width": ""
     }
    },
    "8a4e9c2c190147418ea129303ab97142": {
     "model_module": "@jupyter-widgets/controls",
     "model_module_version": "1.5.0",
     "model_name": "HBoxModel",
     "state": {
      "_dom_classes": [],
      "_model_module": "@jupyter-widgets/controls",
      "_model_module_version": "1.5.0",
      "_model_name": "HBoxModel",
      "_view_count": null,
      "_view_module": "@jupyter-widgets/controls",
      "_view_module_version": "1.5.0",
      "_view_name": "HBoxView",
      "box_style": "",
      "children": [
       "IPY_MODEL_af0d9b79e8c64a7e8f27d5e306985aea",
       "IPY_MODEL_9e8b9deabfcb43ba9df28d775bd8559e",
       "IPY_MODEL_8ef3f74e1a0247bdb6545ce84b3c5415"
      ],
      "layout": "IPY_MODEL_74b7953a51ce4ab1bf4a78844e99f149"
     }
    },
    "8ef3f74e1a0247bdb6545ce84b3c5415": {
     "model_module": "@jupyter-widgets/controls",
     "model_module_version": "1.5.0",
     "model_name": "HTMLModel",
     "state": {
      "_dom_classes": [],
      "_model_module": "@jupyter-widgets/controls",
      "_model_module_version": "1.5.0",
      "_model_name": "HTMLModel",
      "_view_count": null,
      "_view_module": "@jupyter-widgets/controls",
      "_view_module_version": "1.5.0",
      "_view_name": "HTMLView",
      "description": "",
      "description_tooltip": null,
      "layout": "IPY_MODEL_fb5c704fbb9443218bbeb6b4feec3cf3",
      "placeholder": "​",
      "style": "IPY_MODEL_891589cdd0804961b2352365deaabe1f",
      "value": " 446k/446k [00:00&lt;00:00, 1.48MB/s]"
     }
    },
    "9174874215dd44a8b09b74339e313c24": {
     "model_module": "@jupyter-widgets/base",
     "model_module_version": "1.2.0",
     "model_name": "LayoutModel",
     "state": {
      "_model_module": "@jupyter-widgets/base",
      "_model_module_version": "1.2.0",
      "_model_name": "LayoutModel",
      "_view_count": null,
      "_view_module": "@jupyter-widgets/base",
      "_view_module_version": "1.2.0",
      "_view_name": "LayoutView",
      "align_content": null,
      "align_items": null,
      "align_self": null,
      "border": null,
      "bottom": null,
      "display": null,
      "flex": null,
      "flex_flow": null,
      "grid_area": null,
      "grid_auto_columns": null,
      "grid_auto_flow": null,
      "grid_auto_rows": null,
      "grid_column": null,
      "grid_gap": null,
      "grid_row": null,
      "grid_template_areas": null,
      "grid_template_columns": null,
      "grid_template_rows": null,
      "height": null,
      "justify_content": null,
      "justify_items": null,
      "left": null,
      "margin": null,
      "max_height": null,
      "max_width": null,
      "min_height": null,
      "min_width": null,
      "object_fit": null,
      "object_position": null,
      "order": null,
      "overflow": null,
      "overflow_x": null,
      "overflow_y": null,
      "padding": null,
      "right": null,
      "top": null,
      "visibility": null,
      "width": null
     }
    },
    "9e8b9deabfcb43ba9df28d775bd8559e": {
     "model_module": "@jupyter-widgets/controls",
     "model_module_version": "1.5.0",
     "model_name": "FloatProgressModel",
     "state": {
      "_dom_classes": [],
      "_model_module": "@jupyter-widgets/controls",
      "_model_module_version": "1.5.0",
      "_model_name": "FloatProgressModel",
      "_view_count": null,
      "_view_module": "@jupyter-widgets/controls",
      "_view_module_version": "1.5.0",
      "_view_name": "ProgressView",
      "bar_style": "success",
      "description": "",
      "description_tooltip": null,
      "layout": "IPY_MODEL_9174874215dd44a8b09b74339e313c24",
      "max": 456318,
      "min": 0,
      "orientation": "horizontal",
      "style": "IPY_MODEL_e3d796f7ac8647a48a3369dd775f6b89",
      "value": 456318
     }
    },
    "a2a310cd623b41deb15ae12bc3ba6c2d": {
     "model_module": "@jupyter-widgets/base",
     "model_module_version": "1.2.0",
     "model_name": "LayoutModel",
     "state": {
      "_model_module": "@jupyter-widgets/base",
      "_model_module_version": "1.2.0",
      "_model_name": "LayoutModel",
      "_view_count": null,
      "_view_module": "@jupyter-widgets/base",
      "_view_module_version": "1.2.0",
      "_view_name": "LayoutView",
      "align_content": null,
      "align_items": null,
      "align_self": null,
      "border": null,
      "bottom": null,
      "display": null,
      "flex": null,
      "flex_flow": null,
      "grid_area": null,
      "grid_auto_columns": null,
      "grid_auto_flow": null,
      "grid_auto_rows": null,
      "grid_column": null,
      "grid_gap": null,
      "grid_row": null,
      "grid_template_areas": null,
      "grid_template_columns": null,
      "grid_template_rows": null,
      "height": null,
      "justify_content": null,
      "justify_items": null,
      "left": null,
      "margin": null,
      "max_height": null,
      "max_width": null,
      "min_height": null,
      "min_width": null,
      "object_fit": null,
      "object_position": null,
      "order": null,
      "overflow": null,
      "overflow_x": null,
      "overflow_y": null,
      "padding": null,
      "right": null,
      "top": null,
      "visibility": null,
      "width": null
     }
    },
    "a9d38d78075345c0a72a143ea482f695": {
     "model_module": "@jupyter-widgets/controls",
     "model_module_version": "1.5.0",
     "model_name": "DescriptionStyleModel",
     "state": {
      "_model_module": "@jupyter-widgets/controls",
      "_model_module_version": "1.5.0",
      "_model_name": "DescriptionStyleModel",
      "_view_count": null,
      "_view_module": "@jupyter-widgets/base",
      "_view_module_version": "1.2.0",
      "_view_name": "StyleView",
      "description_width": ""
     }
    },
    "ac4c91efcc4548cda42007f29dac2a95": {
     "model_module": "@jupyter-widgets/base",
     "model_module_version": "1.2.0",
     "model_name": "LayoutModel",
     "state": {
      "_model_module": "@jupyter-widgets/base",
      "_model_module_version": "1.2.0",
      "_model_name": "LayoutModel",
      "_view_count": null,
      "_view_module": "@jupyter-widgets/base",
      "_view_module_version": "1.2.0",
      "_view_name": "LayoutView",
      "align_content": null,
      "align_items": null,
      "align_self": null,
      "border": null,
      "bottom": null,
      "display": null,
      "flex": null,
      "flex_flow": null,
      "grid_area": null,
      "grid_auto_columns": null,
      "grid_auto_flow": null,
      "grid_auto_rows": null,
      "grid_column": null,
      "grid_gap": null,
      "grid_row": null,
      "grid_template_areas": null,
      "grid_template_columns": null,
      "grid_template_rows": null,
      "height": null,
      "justify_content": null,
      "justify_items": null,
      "left": null,
      "margin": null,
      "max_height": null,
      "max_width": null,
      "min_height": null,
      "min_width": null,
      "object_fit": null,
      "object_position": null,
      "order": null,
      "overflow": null,
      "overflow_x": null,
      "overflow_y": null,
      "padding": null,
      "right": null,
      "top": null,
      "visibility": null,
      "width": null
     }
    },
    "af0d9b79e8c64a7e8f27d5e306985aea": {
     "model_module": "@jupyter-widgets/controls",
     "model_module_version": "1.5.0",
     "model_name": "HTMLModel",
     "state": {
      "_dom_classes": [],
      "_model_module": "@jupyter-widgets/controls",
      "_model_module_version": "1.5.0",
      "_model_name": "HTMLModel",
      "_view_count": null,
      "_view_module": "@jupyter-widgets/controls",
      "_view_module_version": "1.5.0",
      "_view_name": "HTMLView",
      "description": "",
      "description_tooltip": null,
      "layout": "IPY_MODEL_322e2b0af0fb4055a8efeb9fbf787d8c",
      "placeholder": "​",
      "style": "IPY_MODEL_151ba40b58e9481ca09f72fd7742b53d",
      "value": "Downloading: 100%"
     }
    },
    "b362cc8201864b1da1d6bfb5c2a6588d": {
     "model_module": "@jupyter-widgets/base",
     "model_module_version": "1.2.0",
     "model_name": "LayoutModel",
     "state": {
      "_model_module": "@jupyter-widgets/base",
      "_model_module_version": "1.2.0",
      "_model_name": "LayoutModel",
      "_view_count": null,
      "_view_module": "@jupyter-widgets/base",
      "_view_module_version": "1.2.0",
      "_view_name": "LayoutView",
      "align_content": null,
      "align_items": null,
      "align_self": null,
      "border": null,
      "bottom": null,
      "display": null,
      "flex": null,
      "flex_flow": null,
      "grid_area": null,
      "grid_auto_columns": null,
      "grid_auto_flow": null,
      "grid_auto_rows": null,
      "grid_column": null,
      "grid_gap": null,
      "grid_row": null,
      "grid_template_areas": null,
      "grid_template_columns": null,
      "grid_template_rows": null,
      "height": null,
      "justify_content": null,
      "justify_items": null,
      "left": null,
      "margin": null,
      "max_height": null,
      "max_width": null,
      "min_height": null,
      "min_width": null,
      "object_fit": null,
      "object_position": null,
      "order": null,
      "overflow": null,
      "overflow_x": null,
      "overflow_y": null,
      "padding": null,
      "right": null,
      "top": null,
      "visibility": null,
      "width": null
     }
    },
    "c62c85cd93f94c62ae79461ceeb9f998": {
     "model_module": "@jupyter-widgets/controls",
     "model_module_version": "1.5.0",
     "model_name": "HTMLModel",
     "state": {
      "_dom_classes": [],
      "_model_module": "@jupyter-widgets/controls",
      "_model_module_version": "1.5.0",
      "_model_name": "HTMLModel",
      "_view_count": null,
      "_view_module": "@jupyter-widgets/controls",
      "_view_module_version": "1.5.0",
      "_view_name": "HTMLView",
      "description": "",
      "description_tooltip": null,
      "layout": "IPY_MODEL_b362cc8201864b1da1d6bfb5c2a6588d",
      "placeholder": "​",
      "style": "IPY_MODEL_712cccb3183b465db0fb1b918da04ad1",
      "value": "Downloading: 100%"
     }
    },
    "d051a71c91384353b382a6c302f6b941": {
     "model_module": "@jupyter-widgets/base",
     "model_module_version": "1.2.0",
     "model_name": "LayoutModel",
     "state": {
      "_model_module": "@jupyter-widgets/base",
      "_model_module_version": "1.2.0",
      "_model_name": "LayoutModel",
      "_view_count": null,
      "_view_module": "@jupyter-widgets/base",
      "_view_module_version": "1.2.0",
      "_view_name": "LayoutView",
      "align_content": null,
      "align_items": null,
      "align_self": null,
      "border": null,
      "bottom": null,
      "display": null,
      "flex": null,
      "flex_flow": null,
      "grid_area": null,
      "grid_auto_columns": null,
      "grid_auto_flow": null,
      "grid_auto_rows": null,
      "grid_column": null,
      "grid_gap": null,
      "grid_row": null,
      "grid_template_areas": null,
      "grid_template_columns": null,
      "grid_template_rows": null,
      "height": null,
      "justify_content": null,
      "justify_items": null,
      "left": null,
      "margin": null,
      "max_height": null,
      "max_width": null,
      "min_height": null,
      "min_width": null,
      "object_fit": null,
      "object_position": null,
      "order": null,
      "overflow": null,
      "overflow_x": null,
      "overflow_y": null,
      "padding": null,
      "right": null,
      "top": null,
      "visibility": null,
      "width": null
     }
    },
    "d2d1818cb4b44784a3a729de09b9e045": {
     "model_module": "@jupyter-widgets/controls",
     "model_module_version": "1.5.0",
     "model_name": "HTMLModel",
     "state": {
      "_dom_classes": [],
      "_model_module": "@jupyter-widgets/controls",
      "_model_module_version": "1.5.0",
      "_model_name": "HTMLModel",
      "_view_count": null,
      "_view_module": "@jupyter-widgets/controls",
      "_view_module_version": "1.5.0",
      "_view_name": "HTMLView",
      "description": "",
      "description_tooltip": null,
      "layout": "IPY_MODEL_ac4c91efcc4548cda42007f29dac2a95",
      "placeholder": "​",
      "style": "IPY_MODEL_89a168bc1598482c9f5757738565b52b",
      "value": " 878k/878k [00:00&lt;00:00, 1.78MB/s]"
     }
    },
    "d3e4c257b4fb4f20a2ece2b13ab6657b": {
     "model_module": "@jupyter-widgets/controls",
     "model_module_version": "1.5.0",
     "model_name": "DescriptionStyleModel",
     "state": {
      "_model_module": "@jupyter-widgets/controls",
      "_model_module_version": "1.5.0",
      "_model_name": "DescriptionStyleModel",
      "_view_count": null,
      "_view_module": "@jupyter-widgets/base",
      "_view_module_version": "1.2.0",
      "_view_name": "StyleView",
      "description_width": ""
     }
    },
    "e3d796f7ac8647a48a3369dd775f6b89": {
     "model_module": "@jupyter-widgets/controls",
     "model_module_version": "1.5.0",
     "model_name": "ProgressStyleModel",
     "state": {
      "_model_module": "@jupyter-widgets/controls",
      "_model_module_version": "1.5.0",
      "_model_name": "ProgressStyleModel",
      "_view_count": null,
      "_view_module": "@jupyter-widgets/base",
      "_view_module_version": "1.2.0",
      "_view_name": "StyleView",
      "bar_color": null,
      "description_width": ""
     }
    },
    "f0043dcc4ef9431a925599fed9db87ff": {
     "model_module": "@jupyter-widgets/base",
     "model_module_version": "1.2.0",
     "model_name": "LayoutModel",
     "state": {
      "_model_module": "@jupyter-widgets/base",
      "_model_module_version": "1.2.0",
      "_model_name": "LayoutModel",
      "_view_count": null,
      "_view_module": "@jupyter-widgets/base",
      "_view_module_version": "1.2.0",
      "_view_name": "LayoutView",
      "align_content": null,
      "align_items": null,
      "align_self": null,
      "border": null,
      "bottom": null,
      "display": null,
      "flex": null,
      "flex_flow": null,
      "grid_area": null,
      "grid_auto_columns": null,
      "grid_auto_flow": null,
      "grid_auto_rows": null,
      "grid_column": null,
      "grid_gap": null,
      "grid_row": null,
      "grid_template_areas": null,
      "grid_template_columns": null,
      "grid_template_rows": null,
      "height": null,
      "justify_content": null,
      "justify_items": null,
      "left": null,
      "margin": null,
      "max_height": null,
      "max_width": null,
      "min_height": null,
      "min_width": null,
      "object_fit": null,
      "object_position": null,
      "order": null,
      "overflow": null,
      "overflow_x": null,
      "overflow_y": null,
      "padding": null,
      "right": null,
      "top": null,
      "visibility": null,
      "width": null
     }
    },
    "f16173e4115843be84ceb65c55ce0000": {
     "model_module": "@jupyter-widgets/base",
     "model_module_version": "1.2.0",
     "model_name": "LayoutModel",
     "state": {
      "_model_module": "@jupyter-widgets/base",
      "_model_module_version": "1.2.0",
      "_model_name": "LayoutModel",
      "_view_count": null,
      "_view_module": "@jupyter-widgets/base",
      "_view_module_version": "1.2.0",
      "_view_name": "LayoutView",
      "align_content": null,
      "align_items": null,
      "align_self": null,
      "border": null,
      "bottom": null,
      "display": null,
      "flex": null,
      "flex_flow": null,
      "grid_area": null,
      "grid_auto_columns": null,
      "grid_auto_flow": null,
      "grid_auto_rows": null,
      "grid_column": null,
      "grid_gap": null,
      "grid_row": null,
      "grid_template_areas": null,
      "grid_template_columns": null,
      "grid_template_rows": null,
      "height": null,
      "justify_content": null,
      "justify_items": null,
      "left": null,
      "margin": null,
      "max_height": null,
      "max_width": null,
      "min_height": null,
      "min_width": null,
      "object_fit": null,
      "object_position": null,
      "order": null,
      "overflow": null,
      "overflow_x": null,
      "overflow_y": null,
      "padding": null,
      "right": null,
      "top": null,
      "visibility": null,
      "width": null
     }
    },
    "fb5c704fbb9443218bbeb6b4feec3cf3": {
     "model_module": "@jupyter-widgets/base",
     "model_module_version": "1.2.0",
     "model_name": "LayoutModel",
     "state": {
      "_model_module": "@jupyter-widgets/base",
      "_model_module_version": "1.2.0",
      "_model_name": "LayoutModel",
      "_view_count": null,
      "_view_module": "@jupyter-widgets/base",
      "_view_module_version": "1.2.0",
      "_view_name": "LayoutView",
      "align_content": null,
      "align_items": null,
      "align_self": null,
      "border": null,
      "bottom": null,
      "display": null,
      "flex": null,
      "flex_flow": null,
      "grid_area": null,
      "grid_auto_columns": null,
      "grid_auto_flow": null,
      "grid_auto_rows": null,
      "grid_column": null,
      "grid_gap": null,
      "grid_row": null,
      "grid_template_areas": null,
      "grid_template_columns": null,
      "grid_template_rows": null,
      "height": null,
      "justify_content": null,
      "justify_items": null,
      "left": null,
      "margin": null,
      "max_height": null,
      "max_width": null,
      "min_height": null,
      "min_width": null,
      "object_fit": null,
      "object_position": null,
      "order": null,
      "overflow": null,
      "overflow_x": null,
      "overflow_y": null,
      "padding": null,
      "right": null,
      "top": null,
      "visibility": null,
      "width": null
     }
    }
   }
  }
 },
 "nbformat": 4,
 "nbformat_minor": 4
}
